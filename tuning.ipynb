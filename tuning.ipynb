{
 "cells": [
  {
   "cell_type": "code",
   "execution_count": 12,
   "metadata": {},
   "outputs": [],
   "source": [
    "from resnet import ResNet18\n",
    "import torch\n",
    "import time\n",
    "from lab2 import get_cifar10_dataloaders, train\n",
    "from tqdm import tqdm"
   ]
  },
  {
   "cell_type": "code",
   "execution_count": 13,
   "metadata": {},
   "outputs": [],
   "source": [
    "TRAIN_BATCH_SIZE = 100\n",
    "TEST_BATCH_SIZE = 128\n",
    "LR = 0.1\n",
    "WEIGHT_DECAY = 5e-4\n",
    "MOMENTUM = 0.9\n",
    "EPOCHS = 5\n",
    "DOWNLOAD_PATH = './data'"
   ]
  },
  {
   "cell_type": "code",
   "execution_count": 14,
   "metadata": {},
   "outputs": [
    {
     "name": "stdout",
     "output_type": "stream",
     "text": [
      "Files already downloaded and verified\n",
      "Files already downloaded and verified\n"
     ]
    },
    {
     "name": "stderr",
     "output_type": "stream",
     "text": [
      "100%|██████████| 5/5 [06:30<00:00, 78.18s/it]\n"
     ]
    },
    {
     "name": "stdout",
     "output_type": "stream",
     "text": [
      "Total DL Time Across 5 Epochs: 84.61384759099565\n",
      "Files already downloaded and verified\n",
      "Files already downloaded and verified\n"
     ]
    },
    {
     "name": "stderr",
     "output_type": "stream",
     "text": [
      "  0%|          | 0/5 [00:07<?, ?it/s]\n"
     ]
    },
    {
     "ename": "KeyboardInterrupt",
     "evalue": "",
     "output_type": "error",
     "traceback": [
      "\u001b[0;31m---------------------------------------------------------------------------\u001b[0m",
      "\u001b[0;31mKeyboardInterrupt\u001b[0m                         Traceback (most recent call last)",
      "\u001b[1;32m/home/amanchopra/pytorch-resnet-profiling/tuning.ipynb Cell 3\u001b[0m line \u001b[0;36m1\n\u001b[1;32m     <a href='vscode-notebook-cell://ssh-remote%2Bgcp-deeplearning-1-vm/home/amanchopra/pytorch-resnet-profiling/tuning.ipynb#W1sdnNjb2RlLXJlbW90ZQ%3D%3D?line=16'>17</a>\u001b[0m \u001b[39mfor\u001b[39;00m i \u001b[39min\u001b[39;00m tqdm(\u001b[39mrange\u001b[39m(EPOCHS)):\n\u001b[1;32m     <a href='vscode-notebook-cell://ssh-remote%2Bgcp-deeplearning-1-vm/home/amanchopra/pytorch-resnet-profiling/tuning.ipynb#W1sdnNjb2RlLXJlbW90ZQ%3D%3D?line=17'>18</a>\u001b[0m     epoch_start_time \u001b[39m=\u001b[39m time\u001b[39m.\u001b[39mperf_counter()\n\u001b[0;32m---> <a href='vscode-notebook-cell://ssh-remote%2Bgcp-deeplearning-1-vm/home/amanchopra/pytorch-resnet-profiling/tuning.ipynb#W1sdnNjb2RlLXJlbW90ZQ%3D%3D?line=18'>19</a>\u001b[0m     epoch_loss, epoch_total, epoch_correct, epoch_dl_time, epoch_train_time, epoch_metrics_time \u001b[39m=\u001b[39m train(train_loader, i, mod, optim, loss_func, device, \u001b[39m0\u001b[39;49m, verbose\u001b[39m=\u001b[39;49m\u001b[39m0\u001b[39;49m)\n\u001b[1;32m     <a href='vscode-notebook-cell://ssh-remote%2Bgcp-deeplearning-1-vm/home/amanchopra/pytorch-resnet-profiling/tuning.ipynb#W1sdnNjb2RlLXJlbW90ZQ%3D%3D?line=19'>20</a>\u001b[0m     dl_times\u001b[39m.\u001b[39mappend(epoch_dl_time)\n\u001b[1;32m     <a href='vscode-notebook-cell://ssh-remote%2Bgcp-deeplearning-1-vm/home/amanchopra/pytorch-resnet-profiling/tuning.ipynb#W1sdnNjb2RlLXJlbW90ZQ%3D%3D?line=21'>22</a>\u001b[0m total_dl_time \u001b[39m=\u001b[39m \u001b[39msum\u001b[39m(dl_times)\n",
      "File \u001b[0;32m~/pytorch-resnet-profiling/lab2.py:108\u001b[0m, in \u001b[0;36mtrain\u001b[0;34m(train_loader, epoch_num, mod, optim, loss_func, device, profile, verbose)\u001b[0m\n\u001b[1;32m    105\u001b[0m epoch_train_time \u001b[39m+\u001b[39m\u001b[39m=\u001b[39m train_time\n\u001b[1;32m    107\u001b[0m metrics_start \u001b[39m=\u001b[39m time\u001b[39m.\u001b[39mperf_counter()\n\u001b[0;32m--> 108\u001b[0m loss \u001b[39m=\u001b[39m loss\u001b[39m.\u001b[39;49mitem()\n\u001b[1;32m    109\u001b[0m epoch_loss \u001b[39m+\u001b[39m\u001b[39m=\u001b[39m loss \u001b[39m*\u001b[39m X_batch\u001b[39m.\u001b[39msize(\u001b[39m0\u001b[39m)\n\u001b[1;32m    110\u001b[0m _, pred_labels \u001b[39m=\u001b[39m out\u001b[39m.\u001b[39mmax(\u001b[39m1\u001b[39m)\n",
      "\u001b[0;31mKeyboardInterrupt\u001b[0m: "
     ]
    }
   ],
   "source": [
    "device = torch.device('cuda')\n",
    "\n",
    "num_workers = 0\n",
    "prev_dl_time = float('inf')\n",
    "\n",
    "while True:\n",
    "    train_loader, test_loader = get_cifar10_dataloaders(TRAIN_BATCH_SIZE, num_workers, TEST_BATCH_SIZE, num_workers, download_path=DOWNLOAD_PATH)\n",
    "\n",
    "    mod = ResNet18(include_batch_norm_layers=True).to(device)\n",
    "\n",
    "    optim = torch.optim.SGD(mod.parameters(), lr=LR, momentum=MOMENTUM, weight_decay=WEIGHT_DECAY)\n",
    "    \n",
    "    loss_func = torch.nn.CrossEntropyLoss()\n",
    "\n",
    "    dl_times = []\n",
    "\n",
    "    for i in tqdm(range(EPOCHS)):\n",
    "        epoch_start_time = time.perf_counter()\n",
    "        epoch_loss, epoch_total, epoch_correct, epoch_dl_time, epoch_train_time, epoch_metrics_time = train(train_loader, i, mod, optim, loss_func, device, 0, verbose=0)\n",
    "        dl_times.append(epoch_dl_time)\n",
    "    \n",
    "    total_dl_time = sum(dl_times)\n",
    "    print(f'Total DL Time Across {EPOCHS} Epochs: {total_dl_time}')\n",
    "\n",
    "    if prev_dl_time <= total_dl_time:\n",
    "        break\n",
    "\n",
    "    num_workers += 4\n",
    "    prev_dl_time = total_dl_time"
   ]
  }
 ],
 "metadata": {
  "kernelspec": {
   "display_name": "base",
   "language": "python",
   "name": "python3"
  },
  "language_info": {
   "codemirror_mode": {
    "name": "ipython",
    "version": 3
   },
   "file_extension": ".py",
   "mimetype": "text/x-python",
   "name": "python",
   "nbconvert_exporter": "python",
   "pygments_lexer": "ipython3",
   "version": "3.10.12"
  },
  "orig_nbformat": 4
 },
 "nbformat": 4,
 "nbformat_minor": 2
}
