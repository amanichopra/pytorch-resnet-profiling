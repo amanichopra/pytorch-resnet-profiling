{
 "cells": [
  {
   "cell_type": "code",
   "execution_count": 1,
   "metadata": {},
   "outputs": [],
   "source": [
    "from resnet import ResNet18\n",
    "import torchvision\n",
    "import torch\n",
    "from torch.utils.data import DataLoader\n",
    "import argparse\n",
    "import time\n",
    "from lab2 import get_cifar10_dataloaders, train"
   ]
  },
  {
   "cell_type": "code",
   "execution_count": null,
   "metadata": {},
   "outputs": [],
   "source": [
    "TRAIN_BATCH_SIZE = 100\n",
    "TEST_BATCH_SIZE = 128\n",
    "DOWNLOAD_PATH = './data'"
   ]
  },
  {
   "cell_type": "code",
   "execution_count": null,
   "metadata": {},
   "outputs": [],
   "source": [
    "device = torch.device('cuda')\n",
    "\n",
    "num_workers = 0\n",
    "\n",
    "while True:\n",
    "    train_loader, test_loader = get_cifar10_dataloaders(TRAIN_BATCH_SIZE, num_workers, TEST_BATCH_SIZE, num_workers, download_path=args.data_download_path)\n",
    "\n",
    "mod = ResNet18(include_batch_norm_layers=True).to(device)\n",
    "\n",
    "    if args.optimizer == 'sgd':\n",
    "        optim = torch.optim.SGD(mod.parameters(), lr=args.lr, momentum=args.momentum, weight_decay=args.weight_decay, nesterov=args.nesterov)\n",
    "    elif args.optimizer == 'adam':\n",
    "        optim = torch.optim.Adam(mod.parameters(), lr=args.lr, eps=args.epsilson, weight_decay=args.wd)\n",
    "    elif args.optimizer == 'adagrad':\n",
    "        optim = torch.optim.Adagrad(mod.parameters(), lr=args.lr, eps=args.epsilson, weight_decay=args.wd)\n",
    "    elif args.optimizer == 'rmsprop':\n",
    "        optim = torch.optim.RMSprop(mod.parameters(), lr=args.lr, eps=args.epsilon, momentum=args.momentum, weight_decay=args.weight_decay)\n",
    "    else:\n",
    "        optim = torch.optim.Adadelta(mod.parameters(), lr=args.lr, eps=args.epsilson, weight_decay=args.wd)\n",
    "\n",
    "    loss_func = torch.nn.CrossEntropyLoss()\n",
    "\n",
    "    dl_times = []\n",
    "    train_times = []\n",
    "    metrics_times = []\n",
    "    epoch_times = []\n",
    "\n",
    "    for i in range(args.epochs):\n",
    "        epoch_start_time = time.perf_counter()\n",
    "        epoch_loss, epoch_total, epoch_correct, epoch_dl_time, epoch_train_time, epoch_metrics_time = train(train_loader, i, mod, optim, loss_func, device, args.enable_torch_profiling, verbose=args.verbose)\n",
    "        dl_times.append(epoch_dl_time)\n",
    "        train_times.append(epoch_train_time)\n",
    "        metrics_times.append(epoch_metrics_time)\n",
    "        epoch_end_time = time.perf_counter()\n",
    "        epoch_time = epoch_end_time - epoch_start_time\n",
    "        epoch_times.append(epoch_time)\n",
    "\n",
    "        print(f'[EPOCH {i+1} SUMMARY] DL Time: {epoch_dl_time}, Train Time: {epoch_train_time}, Metrics Time: {epoch_metrics_time}, Total Running Time: {epoch_time}, Training Loss: {epoch_loss}, Top-1 Accuracy: {epoch_correct / epoch_total}')\n",
    "        print()\n",
    "    \n",
    "    print(f'[BENCHMARKING SUMMARY] Total DL Time: {sum(dl_times)}, Total Train Time: {sum(train_times)}, Total Metrics Time: {sum(metrics_times)}, Total Runtime Across All Epochs: {sum(epoch_times)}')"
   ]
  }
 ],
 "metadata": {
  "kernelspec": {
   "display_name": "base",
   "language": "python",
   "name": "python3"
  },
  "language_info": {
   "codemirror_mode": {
    "name": "ipython",
    "version": 3
   },
   "file_extension": ".py",
   "mimetype": "text/x-python",
   "name": "python",
   "nbconvert_exporter": "python",
   "pygments_lexer": "ipython3",
   "version": "3.10.12"
  },
  "orig_nbformat": 4
 },
 "nbformat": 4,
 "nbformat_minor": 2
}
